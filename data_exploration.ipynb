{
 "cells": [
  {
   "cell_type": "code",
   "execution_count": 48,
   "metadata": {},
   "outputs": [],
   "source": [
    "import pandas as pd\n",
    "import numpy as np\n",
    "import matplotlib.pyplot as plt\n",
    "import scipy"
   ]
  },
  {
   "cell_type": "code",
   "execution_count": 3,
   "metadata": {},
   "outputs": [
    {
     "data": {
      "text/html": [
       "<div>\n",
       "<style scoped>\n",
       "    .dataframe tbody tr th:only-of-type {\n",
       "        vertical-align: middle;\n",
       "    }\n",
       "\n",
       "    .dataframe tbody tr th {\n",
       "        vertical-align: top;\n",
       "    }\n",
       "\n",
       "    .dataframe thead th {\n",
       "        text-align: right;\n",
       "    }\n",
       "</style>\n",
       "<table border=\"1\" class=\"dataframe\">\n",
       "  <thead>\n",
       "    <tr style=\"text-align: right;\">\n",
       "      <th></th>\n",
       "      <th>id</th>\n",
       "      <th>url</th>\n",
       "      <th>timedelta</th>\n",
       "      <th>n_tokens_title</th>\n",
       "      <th>n_tokens_content</th>\n",
       "      <th>n_unique_tokens</th>\n",
       "      <th>n_non_stop_words</th>\n",
       "      <th>n_non_stop_unique_tokens</th>\n",
       "      <th>num_hrefs</th>\n",
       "      <th>num_self_hrefs</th>\n",
       "      <th>...</th>\n",
       "      <th>avg_negative_polarity</th>\n",
       "      <th>min_negative_polarity</th>\n",
       "      <th>max_negative_polarity</th>\n",
       "      <th>title_subjectivity</th>\n",
       "      <th>title_sentiment_polarity</th>\n",
       "      <th>abs_title_subjectivity</th>\n",
       "      <th>abs_title_sentiment_polarity</th>\n",
       "      <th>shares</th>\n",
       "      <th>data_channel</th>\n",
       "      <th>weekday</th>\n",
       "    </tr>\n",
       "  </thead>\n",
       "  <tbody>\n",
       "    <tr>\n",
       "      <th>0</th>\n",
       "      <td>0</td>\n",
       "      <td>http://mashable.com/2014/09/08/safest-cabbies-...</td>\n",
       "      <td>121.0</td>\n",
       "      <td>12.0</td>\n",
       "      <td>1015.0</td>\n",
       "      <td>0.422018</td>\n",
       "      <td>1.0</td>\n",
       "      <td>0.545031</td>\n",
       "      <td>10.0</td>\n",
       "      <td>6.0</td>\n",
       "      <td>...</td>\n",
       "      <td>-0.160714</td>\n",
       "      <td>-0.50</td>\n",
       "      <td>-0.071429</td>\n",
       "      <td>0.0</td>\n",
       "      <td>0.00</td>\n",
       "      <td>0.5</td>\n",
       "      <td>0.00</td>\n",
       "      <td>2900</td>\n",
       "      <td>bus</td>\n",
       "      <td>tuesday</td>\n",
       "    </tr>\n",
       "    <tr>\n",
       "      <th>1</th>\n",
       "      <td>1</td>\n",
       "      <td>http://mashable.com/2013/07/25/3d-printed-rifle/</td>\n",
       "      <td>532.0</td>\n",
       "      <td>9.0</td>\n",
       "      <td>503.0</td>\n",
       "      <td>0.569697</td>\n",
       "      <td>1.0</td>\n",
       "      <td>0.737542</td>\n",
       "      <td>9.0</td>\n",
       "      <td>0.0</td>\n",
       "      <td>...</td>\n",
       "      <td>-0.157500</td>\n",
       "      <td>-0.25</td>\n",
       "      <td>-0.100000</td>\n",
       "      <td>0.0</td>\n",
       "      <td>0.00</td>\n",
       "      <td>0.5</td>\n",
       "      <td>0.00</td>\n",
       "      <td>1300</td>\n",
       "      <td>tech</td>\n",
       "      <td>thursday</td>\n",
       "    </tr>\n",
       "    <tr>\n",
       "      <th>2</th>\n",
       "      <td>2</td>\n",
       "      <td>http://mashable.com/2013/10/30/digital-dinosau...</td>\n",
       "      <td>435.0</td>\n",
       "      <td>9.0</td>\n",
       "      <td>232.0</td>\n",
       "      <td>0.646018</td>\n",
       "      <td>1.0</td>\n",
       "      <td>0.748428</td>\n",
       "      <td>12.0</td>\n",
       "      <td>3.0</td>\n",
       "      <td>...</td>\n",
       "      <td>-0.427500</td>\n",
       "      <td>-1.00</td>\n",
       "      <td>-0.187500</td>\n",
       "      <td>0.0</td>\n",
       "      <td>0.00</td>\n",
       "      <td>0.5</td>\n",
       "      <td>0.00</td>\n",
       "      <td>17700</td>\n",
       "      <td>lifestyle</td>\n",
       "      <td>wednesday</td>\n",
       "    </tr>\n",
       "    <tr>\n",
       "      <th>3</th>\n",
       "      <td>3</td>\n",
       "      <td>http://mashable.com/2014/08/27/homer-simpson-i...</td>\n",
       "      <td>134.0</td>\n",
       "      <td>12.0</td>\n",
       "      <td>171.0</td>\n",
       "      <td>0.722892</td>\n",
       "      <td>1.0</td>\n",
       "      <td>0.867925</td>\n",
       "      <td>9.0</td>\n",
       "      <td>5.0</td>\n",
       "      <td>...</td>\n",
       "      <td>-0.216667</td>\n",
       "      <td>-0.25</td>\n",
       "      <td>-0.166667</td>\n",
       "      <td>0.4</td>\n",
       "      <td>-0.25</td>\n",
       "      <td>0.1</td>\n",
       "      <td>0.25</td>\n",
       "      <td>1500</td>\n",
       "      <td>bus</td>\n",
       "      <td>wednesday</td>\n",
       "    </tr>\n",
       "    <tr>\n",
       "      <th>4</th>\n",
       "      <td>4</td>\n",
       "      <td>http://mashable.com/2013/01/10/creepy-robotic-...</td>\n",
       "      <td>728.0</td>\n",
       "      <td>11.0</td>\n",
       "      <td>286.0</td>\n",
       "      <td>0.652632</td>\n",
       "      <td>1.0</td>\n",
       "      <td>0.800000</td>\n",
       "      <td>5.0</td>\n",
       "      <td>2.0</td>\n",
       "      <td>...</td>\n",
       "      <td>-0.251786</td>\n",
       "      <td>-0.50</td>\n",
       "      <td>-0.100000</td>\n",
       "      <td>0.2</td>\n",
       "      <td>-0.10</td>\n",
       "      <td>0.3</td>\n",
       "      <td>0.10</td>\n",
       "      <td>1400</td>\n",
       "      <td>tech</td>\n",
       "      <td>thursday</td>\n",
       "    </tr>\n",
       "  </tbody>\n",
       "</table>\n",
       "<p>5 rows × 50 columns</p>\n",
       "</div>"
      ],
      "text/plain": [
       "   id                                                url  timedelta  \\\n",
       "0   0  http://mashable.com/2014/09/08/safest-cabbies-...      121.0   \n",
       "1   1   http://mashable.com/2013/07/25/3d-printed-rifle/      532.0   \n",
       "2   2  http://mashable.com/2013/10/30/digital-dinosau...      435.0   \n",
       "3   3  http://mashable.com/2014/08/27/homer-simpson-i...      134.0   \n",
       "4   4  http://mashable.com/2013/01/10/creepy-robotic-...      728.0   \n",
       "\n",
       "   n_tokens_title  n_tokens_content  n_unique_tokens  n_non_stop_words  \\\n",
       "0            12.0            1015.0         0.422018               1.0   \n",
       "1             9.0             503.0         0.569697               1.0   \n",
       "2             9.0             232.0         0.646018               1.0   \n",
       "3            12.0             171.0         0.722892               1.0   \n",
       "4            11.0             286.0         0.652632               1.0   \n",
       "\n",
       "   n_non_stop_unique_tokens  num_hrefs  num_self_hrefs  ...  \\\n",
       "0                  0.545031       10.0             6.0  ...   \n",
       "1                  0.737542        9.0             0.0  ...   \n",
       "2                  0.748428       12.0             3.0  ...   \n",
       "3                  0.867925        9.0             5.0  ...   \n",
       "4                  0.800000        5.0             2.0  ...   \n",
       "\n",
       "   avg_negative_polarity  min_negative_polarity  max_negative_polarity  \\\n",
       "0              -0.160714                  -0.50              -0.071429   \n",
       "1              -0.157500                  -0.25              -0.100000   \n",
       "2              -0.427500                  -1.00              -0.187500   \n",
       "3              -0.216667                  -0.25              -0.166667   \n",
       "4              -0.251786                  -0.50              -0.100000   \n",
       "\n",
       "   title_subjectivity  title_sentiment_polarity  abs_title_subjectivity  \\\n",
       "0                 0.0                      0.00                     0.5   \n",
       "1                 0.0                      0.00                     0.5   \n",
       "2                 0.0                      0.00                     0.5   \n",
       "3                 0.4                     -0.25                     0.1   \n",
       "4                 0.2                     -0.10                     0.3   \n",
       "\n",
       "   abs_title_sentiment_polarity  shares  data_channel    weekday  \n",
       "0                          0.00    2900           bus    tuesday  \n",
       "1                          0.00    1300          tech   thursday  \n",
       "2                          0.00   17700     lifestyle  wednesday  \n",
       "3                          0.25    1500           bus  wednesday  \n",
       "4                          0.10    1400          tech   thursday  \n",
       "\n",
       "[5 rows x 50 columns]"
      ]
     },
     "execution_count": 3,
     "metadata": {},
     "output_type": "execute_result"
    }
   ],
   "source": [
    "path_dev = \"./data/development.csv\"\n",
    "path_eva = \"./data/evaluation.csv\"\n",
    "\n",
    "df = pd.read_csv(path_dev)\n",
    "df.head(5)"
   ]
  },
  {
   "cell_type": "code",
   "execution_count": 16,
   "metadata": {},
   "outputs": [
    {
     "name": "stdout",
     "output_type": "stream",
     "text": [
      "<class 'pandas.core.frame.DataFrame'>\n",
      "RangeIndex: 31715 entries, 0 to 31714\n",
      "Data columns (total 50 columns):\n",
      " #   Column                        Non-Null Count  Dtype  \n",
      "---  ------                        --------------  -----  \n",
      " 0   id                            31715 non-null  int64  \n",
      " 1   url                           31715 non-null  object \n",
      " 2   timedelta                     31715 non-null  float64\n",
      " 3   n_tokens_title                31715 non-null  float64\n",
      " 4   n_tokens_content              31715 non-null  float64\n",
      " 5   n_unique_tokens               31715 non-null  float64\n",
      " 6   n_non_stop_words              31715 non-null  float64\n",
      " 7   n_non_stop_unique_tokens      31715 non-null  float64\n",
      " 8   num_hrefs                     31715 non-null  float64\n",
      " 9   num_self_hrefs                31715 non-null  float64\n",
      " 10  num_imgs                      25340 non-null  float64\n",
      " 11  num_videos                    25384 non-null  float64\n",
      " 12  average_token_length          31715 non-null  float64\n",
      " 13  num_keywords                  25397 non-null  float64\n",
      " 14  kw_min_min                    31715 non-null  float64\n",
      " 15  kw_max_min                    31715 non-null  float64\n",
      " 16  kw_avg_min                    31715 non-null  float64\n",
      " 17  kw_min_max                    31715 non-null  float64\n",
      " 18  kw_max_max                    31715 non-null  float64\n",
      " 19  kw_avg_max                    31715 non-null  float64\n",
      " 20  kw_min_avg                    31715 non-null  float64\n",
      " 21  kw_max_avg                    31715 non-null  float64\n",
      " 22  kw_avg_avg                    31715 non-null  float64\n",
      " 23  self_reference_min_shares     31715 non-null  float64\n",
      " 24  self_reference_max_shares     31715 non-null  float64\n",
      " 25  self_reference_avg_sharess    31715 non-null  float64\n",
      " 26  LDA_00                        31715 non-null  float64\n",
      " 27  LDA_01                        31715 non-null  float64\n",
      " 28  LDA_02                        31715 non-null  float64\n",
      " 29  LDA_03                        31715 non-null  float64\n",
      " 30  LDA_04                        31715 non-null  float64\n",
      " 31  global_subjectivity           31715 non-null  float64\n",
      " 32  global_sentiment_polarity     31715 non-null  float64\n",
      " 33  global_rate_positive_words    31715 non-null  float64\n",
      " 34  global_rate_negative_words    31715 non-null  float64\n",
      " 35  rate_positive_words           31715 non-null  float64\n",
      " 36  rate_negative_words           31715 non-null  float64\n",
      " 37  avg_positive_polarity         31715 non-null  float64\n",
      " 38  min_positive_polarity         31715 non-null  float64\n",
      " 39  max_positive_polarity         31715 non-null  float64\n",
      " 40  avg_negative_polarity         31715 non-null  float64\n",
      " 41  min_negative_polarity         31715 non-null  float64\n",
      " 42  max_negative_polarity         31715 non-null  float64\n",
      " 43  title_subjectivity            31715 non-null  float64\n",
      " 44  title_sentiment_polarity      31715 non-null  float64\n",
      " 45  abs_title_subjectivity        31715 non-null  float64\n",
      " 46  abs_title_sentiment_polarity  31715 non-null  float64\n",
      " 47  shares                        31715 non-null  int64  \n",
      " 48  data_channel                  31715 non-null  object \n",
      " 49  weekday                       31715 non-null  object \n",
      "dtypes: float64(45), int64(2), object(3)\n",
      "memory usage: 12.1+ MB\n"
     ]
    }
   ],
   "source": [
    "df.info()"
   ]
  },
  {
   "cell_type": "code",
   "execution_count": 31,
   "metadata": {},
   "outputs": [
    {
     "name": "stdout",
     "output_type": "stream",
     "text": [
      "Max value of number of shares  843300\n",
      "Min value of number of shares  4\n",
      "Median 3407.0688633138893\n"
     ]
    },
    {
     "data": {
      "image/png": "[encoded data removed]",
      "text/plain": [
       "<Figure size 1200x960 with 2 Axes>"
      ]
     },
     "metadata": {},
     "output_type": "display_data"
    }
   ],
   "source": [
    "# Showing distribution of the label : # of shares,\n",
    "\n",
    "fig, ax = plt.subplots(2,1,dpi = 120, figsize = (10,8))\n",
    "\n",
    "data = df[\"shares\"]\n",
    "print('Max value of number of shares ', max(data))\n",
    "print('Min value of number of shares ', min(data))\n",
    "print('Mean', data.mean())\n",
    "\n",
    "plt.grid(alpha = 0.2)\n",
    "ax[0].boxplot(data)\n",
    "ax[1].hist(data, bins= 10, edgecolor='black', color = 'mediumpurple')\n",
    "\n",
    "# Set Titles\n",
    "ax[0].set_title(\"Box Plot of shares\")\n",
    "ax[1].set_title(\"Histogram of shares\")\n",
    "\n",
    "\n",
    "# Displaying the plot\n",
    "plt.show()"
   ]
  },
  {
   "cell_type": "code",
   "execution_count": 36,
   "metadata": {},
   "outputs": [
    {
     "name": "stdout",
     "output_type": "stream",
     "text": [
      "First quantile  946.0\n",
      "Median quantile  1400.0\n",
      "Third quantile  2800.0\n",
      "IQR Inferior: -1835.0\n",
      "IQR Superior: 5581.0\n",
      "\n",
      "Very popular : >= 5581.0\n",
      "Popular: >=  2800.0\n",
      "Normal: >=  946.0\n",
      "Not popular <= 946.0\n"
     ]
    }
   ],
   "source": [
    "quantiles = df['shares'].quantile([0.25, 0.5, 0.75])\n",
    "\n",
    "print(\"First quantile \" ,quantiles[0.25])\n",
    "print(\"Median quantile \" ,quantiles[0.5])\n",
    "print(\"Third quantile \" ,quantiles[0.75])\n",
    "\n",
    "Q1 = quantiles[0.25]\n",
    "Q3 = quantiles[0.75]\n",
    "IQR_inferior = Q1 - 1.5 * (Q3 - Q1)\n",
    "IQR_superior = Q3 + 1.5 * (Q3 - Q1)\n",
    "\n",
    "\n",
    "print(\"IQR Inferior:\", IQR_inferior)\n",
    "print(\"IQR Superior:\", IQR_superior)\n",
    "print(\"\")\n",
    "print('Very popular : >=', IQR_superior )\n",
    "print('Popular: >= ', quantiles[0.75] )\n",
    "print('Normal: >= ', quantiles[0.25])\n",
    "print('Not popular <=', quantiles[0.25] )"
   ]
  },
  {
   "cell_type": "code",
   "execution_count": 42,
   "metadata": {},
   "outputs": [
    {
     "name": "stdout",
     "output_type": "stream",
     "text": [
      "Number of very popular news:  3634\n",
      "Number of popular news:  4353\n",
      "Number of normal news:  15819\n",
      "Number of unpopular news:  7909\n",
      "31715\n"
     ]
    }
   ],
   "source": [
    "n_vp = len(df[df[\"shares\"] >= IQR_superior])\n",
    "n_p = len(df[df[\"shares\"] >= quantiles[0.75] ])\n",
    "n_n = len(df[df[\"shares\"] >= quantiles[0.25] ])\n",
    "n_u = len(df[df[\"shares\"] < quantiles[0.25] ])\n",
    "print(\"Number of very popular news: \",n_vp )\n",
    "print(\"Number of popular news: \", n_p - n_vp)\n",
    "print(\"Number of normal news: \", n_n - n_p)\n",
    "print(\"Number of unpopular news: \", n_u)\n",
    "\n"
   ]
  },
  {
   "cell_type": "code",
   "execution_count": 17,
   "metadata": {},
   "outputs": [
    {
     "name": "stdout",
     "output_type": "stream",
     "text": [
      "Max value of timedelta  731.0\n",
      "Min value of timedelta  8.0\n"
     ]
    },
    {
     "data": {
      "image/png": "[encoded data removed]",
      "text/plain": [
       "<Figure size 768x576 with 1 Axes>"
      ]
     },
     "metadata": {},
     "output_type": "display_data"
    }
   ],
   "source": [
    "# Showing distribution of the feature : timedelta,\n",
    "# i.e., days after the publication of the news\n",
    "\n",
    "fig, ax = plt.subplots(1,1, dpi = 120)\n",
    "\n",
    "data = df[\"timedelta\"]\n",
    "print('Max value of timedelta ', max(data))\n",
    "print('Min value of timedelta ', min(data))\n",
    "plt.grid(alpha = 0.2)\n",
    "plt.hist(data, bins= 100, edgecolor='black', color = 'mediumpurple')\n",
    "\n",
    "\n",
    "# Customizing the plot\n",
    "plt.title(\"Histogram of timedelta\")\n",
    "plt.xlabel(\"Value\")\n",
    "plt.ylabel(\"Frequency\")\n",
    "\n",
    "# Displaying the plot\n",
    "\n",
    "plt.show()"
   ]
  },
  {
   "cell_type": "code",
   "execution_count": 57,
   "metadata": {},
   "outputs": [
    {
     "name": "stdout",
     "output_type": "stream",
     "text": [
      "['kw_avg_avg', 'LDA_03', 'self_reference_avg_sharess', 'self_reference_min_shares', 'LDA_02', 'kw_max_avg', 'self_reference_max_shares', 'num_imgs', 'num_hrefs', 'kw_avg_max']\n",
      "kw_avg_avg                    0.103006\n",
      "LDA_03                        0.080471\n",
      "self_reference_avg_sharess    0.062653\n",
      "self_reference_min_shares     0.061501\n",
      "LDA_02                        0.058666\n",
      "kw_max_avg                    0.056123\n",
      "self_reference_max_shares     0.051441\n",
      "num_imgs                      0.046433\n",
      "num_hrefs                     0.046224\n",
      "kw_avg_max                    0.045563\n",
      "Name: shares, dtype: float64\n"
     ]
    }
   ],
   "source": [
    "filtered_df = df.select_dtypes(exclude=['object', 'bool'])\n",
    "\n",
    "\n",
    "# Calculate correlation matrix for selected features\n",
    "\n",
    "correlation_matrix = filtered_df.corr()\n",
    "\n",
    "top_10_features = correlation_matrix['shares'].abs().nlargest(11).index.tolist()[1:]\n",
    "top_10_values = correlation_matrix['shares'].abs().nlargest(11)[1:]\n",
    "\n",
    "print(top_10_features)\n",
    "print(top_10_values)"
   ]
  },
  {
   "cell_type": "code",
   "execution_count": 58,
   "metadata": {},
   "outputs": [
    {
     "name": "stdout",
     "output_type": "stream",
     "text": [
      "n_unique_tokens\n",
      "n_non_stop_words\n",
      "n_non_stop_unique_tokens\n",
      "LDA_00\n",
      "LDA_01\n",
      "LDA_02\n",
      "LDA_03\n",
      "LDA_04\n",
      "global_subjectivity\n",
      "global_rate_positive_words\n",
      "global_rate_negative_words\n",
      "rate_positive_words\n",
      "rate_negative_words\n",
      "avg_positive_polarity\n",
      "min_positive_polarity\n",
      "max_positive_polarity\n",
      "title_subjectivity\n",
      "abs_title_subjectivity\n",
      "abs_title_sentiment_polarity\n"
     ]
    }
   ],
   "source": [
    "# Features normalized\n",
    "for col in filtered_df.columns:\n",
    "    max_v = max(filtered_df[col])\n",
    "    min_v = min(filtered_df[col])\n",
    "\n",
    "    if max_v <= 1 and min_v >= 0:\n",
    "        print(col)\n",
    "        "
   ]
  },
  {
   "cell_type": "code",
   "execution_count": 59,
   "metadata": {},
   "outputs": [
    {
     "name": "stdout",
     "output_type": "stream",
     "text": [
      "Index([], dtype='object')\n"
     ]
    }
   ],
   "source": [
    "unique_columns = df.columns[df.nunique() == 1]\n",
    "print(unique_columns)"
   ]
  },
  {
   "cell_type": "code",
   "execution_count": 60,
   "metadata": {},
   "outputs": [
    {
     "name": "stdout",
     "output_type": "stream",
     "text": [
      "['kw_avg_avg', 'kw_max_avg', 'self_reference_avg_sharess', 'self_reference_min_shares', 'self_reference_max_shares', 'LDA_02', 'kw_min_avg', 'global_subjectivity', 'num_imgs', 'kw_avg_min']\n",
      "kw_avg_avg                    0.177827\n",
      "kw_max_avg                    0.156037\n",
      "self_reference_avg_sharess    0.135023\n",
      "self_reference_min_shares     0.126630\n",
      "self_reference_max_shares     0.118688\n",
      "LDA_02                        0.104588\n",
      "kw_min_avg                    0.076717\n",
      "global_subjectivity           0.076332\n",
      "num_imgs                      0.064558\n",
      "kw_avg_min                    0.062927\n",
      "Name: shares, dtype: float64\n"
     ]
    }
   ],
   "source": [
    "correlation_matrix = filtered_df.corr(method='kendall')\n",
    "top_10_features = correlation_matrix['shares'].abs().nlargest(11).index.tolist()[1:]\n",
    "top_10_values = correlation_matrix['shares'].abs().nlargest(11)[1:]\n",
    "\n",
    "print(top_10_features)\n",
    "print(top_10_values)"
   ]
  },
  {
   "cell_type": "code",
   "execution_count": 55,
   "metadata": {},
   "outputs": [
    {
     "name": "stdout",
     "output_type": "stream",
     "text": [
      "['kw_avg_avg', 'kw_max_avg', 'self_reference_avg_sharess', 'self_reference_min_shares', 'self_reference_max_shares', 'LDA_02', 'global_subjectivity', 'kw_min_avg', 'kw_avg_min', 'kw_max_min']\n"
     ]
    },
    {
     "data": {
      "text/plain": [
       "kw_avg_avg                    0.259361\n",
       "kw_max_avg                    0.227842\n",
       "self_reference_avg_sharess    0.193903\n",
       "self_reference_min_shares     0.181423\n",
       "self_reference_max_shares     0.170796\n",
       "LDA_02                        0.155207\n",
       "global_subjectivity           0.112726\n",
       "kw_min_avg                    0.104967\n",
       "kw_avg_min                    0.093259\n",
       "kw_max_min                    0.092380\n",
       "Name: shares, dtype: float64"
      ]
     },
     "execution_count": 55,
     "metadata": {},
     "output_type": "execute_result"
    }
   ],
   "source": [
    "correlation_matrix = filtered_df.corr(method='spearman')\n",
    "top_10_features = correlation_matrix['shares'].abs().nlargest(11).index.tolist()[1:]\n",
    "top_10_values = correlation_matrix['shares'].abs().nlargest(11)[1:]\n",
    "\n",
    "print(top_10_features)\n",
    "print(top_10_values)"
   ]
  },
  {
   "cell_type": "code",
   "execution_count": 62,
   "metadata": {},
   "outputs": [
    {
     "name": "stdout",
     "output_type": "stream",
     "text": [
      "                                                     url data_channel  \\\n",
      "0      http://mashable.com/2014/09/08/safest-cabbies-...          bus   \n",
      "1       http://mashable.com/2013/07/25/3d-printed-rifle/         tech   \n",
      "2      http://mashable.com/2013/10/30/digital-dinosau...    lifestyle   \n",
      "3      http://mashable.com/2014/08/27/homer-simpson-i...          bus   \n",
      "4      http://mashable.com/2013/01/10/creepy-robotic-...         tech   \n",
      "...                                                  ...          ...   \n",
      "31710  http://mashable.com/2014/11/30/star-wars-guard...        world   \n",
      "31711          http://mashable.com/2014/11/14/uk-floods/    lifestyle   \n",
      "31712  http://mashable.com/2014/09/08/paypal-bitcoin-...         tech   \n",
      "31713  http://mashable.com/2013/08/23/mashable-androi...    lifestyle   \n",
      "31714  http://mashable.com/2014/09/24/designers-dilem...       socmed   \n",
      "\n",
      "         weekday  \n",
      "0        tuesday  \n",
      "1       thursday  \n",
      "2      wednesday  \n",
      "3      wednesday  \n",
      "4       thursday  \n",
      "...          ...  \n",
      "31710    tuesday  \n",
      "31711     monday  \n",
      "31712    tuesday  \n",
      "31713     friday  \n",
      "31714  wednesday  \n",
      "\n",
      "[31715 rows x 3 columns]\n"
     ]
    }
   ],
   "source": [
    "string_df = df.select_dtypes(include=['object', 'bool'])\n",
    "print(string_df)\n"
   ]
  },
  {
   "cell_type": "code",
   "execution_count": 66,
   "metadata": {},
   "outputs": [
    {
     "name": "stdout",
     "output_type": "stream",
     "text": [
      "   id                                                url  timedelta  \\\n",
      "0   0  http://mashable.com/2014/09/08/safest-cabbies-...      121.0   \n",
      "1   1   http://mashable.com/2013/07/25/3d-printed-rifle/      532.0   \n",
      "2   2  http://mashable.com/2013/10/30/digital-dinosau...      435.0   \n",
      "3   3  http://mashable.com/2014/08/27/homer-simpson-i...      134.0   \n",
      "4   4  http://mashable.com/2013/01/10/creepy-robotic-...      728.0   \n",
      "\n",
      "   n_tokens_title  n_tokens_content  n_unique_tokens  n_non_stop_words  \\\n",
      "0            12.0            1015.0         0.422018               1.0   \n",
      "1             9.0             503.0         0.569697               1.0   \n",
      "2             9.0             232.0         0.646018               1.0   \n",
      "3            12.0             171.0         0.722892               1.0   \n",
      "4            11.0             286.0         0.652632               1.0   \n",
      "\n",
      "   n_non_stop_unique_tokens  num_hrefs  num_self_hrefs  ...  \\\n",
      "0                  0.545031       10.0             6.0  ...   \n",
      "1                  0.737542        9.0             0.0  ...   \n",
      "2                  0.748428       12.0             3.0  ...   \n",
      "3                  0.867925        9.0             5.0  ...   \n",
      "4                  0.800000        5.0             2.0  ...   \n",
      "\n",
      "   data_channel_socmed  data_channel_tech  data_channel_world  weekday_friday  \\\n",
      "0                False              False               False           False   \n",
      "1                False               True               False           False   \n",
      "2                False              False               False           False   \n",
      "3                False              False               False           False   \n",
      "4                False               True               False           False   \n",
      "\n",
      "   weekday_monday  weekday_saturday  weekday_sunday  weekday_thursday  \\\n",
      "0           False             False           False             False   \n",
      "1           False             False           False              True   \n",
      "2           False             False           False             False   \n",
      "3           False             False           False             False   \n",
      "4           False             False           False              True   \n",
      "\n",
      "   weekday_tuesday  weekday_wednesday  \n",
      "0             True              False  \n",
      "1            False              False  \n",
      "2            False               True  \n",
      "3            False               True  \n",
      "4            False              False  \n",
      "\n",
      "[5 rows x 61 columns]\n"
     ]
    }
   ],
   "source": [
    "df_encoded = pd.get_dummies(df, columns=['data_channel', 'weekday'])\n"
   ]
  },
  {
   "cell_type": "code",
   "execution_count": 67,
   "metadata": {},
   "outputs": [
    {
     "name": "stdout",
     "output_type": "stream",
     "text": [
      "['kw_avg_avg', 'data_channel_lifestyle', 'LDA_03', 'self_reference_avg_sharess', 'self_reference_min_shares', 'LDA_02', 'kw_max_avg', 'self_reference_max_shares', 'data_channel_world', 'num_imgs']\n",
      "kw_avg_avg                    0.103006\n",
      "data_channel_lifestyle        0.084398\n",
      "LDA_03                        0.080471\n",
      "self_reference_avg_sharess    0.062653\n",
      "self_reference_min_shares     0.061501\n",
      "LDA_02                        0.058666\n",
      "kw_max_avg                    0.056123\n",
      "self_reference_max_shares     0.051441\n",
      "data_channel_world            0.047170\n",
      "num_imgs                      0.046433\n",
      "Name: shares, dtype: float64\n"
     ]
    }
   ],
   "source": [
    "filtered_df = df_encoded.select_dtypes(exclude=['object'])\n",
    "\n",
    "\n",
    "# Calculate correlation matrix for selected features\n",
    "\n",
    "correlation_matrix = filtered_df.corr()\n",
    "\n",
    "top_10_features = correlation_matrix['shares'].abs().nlargest(11).index.tolist()[1:]\n",
    "top_10_values = correlation_matrix['shares'].abs().nlargest(11)[1:]\n",
    "\n",
    "print(top_10_features)\n",
    "print(top_10_values)"
   ]
  }
 ],
 "metadata": {
  "kernelspec": {
   "display_name": "Python 3",
   "language": "python",
   "name": "python3"
  },
  "language_info": {
   "codemirror_mode": {
    "name": "ipython",
    "version": 3
   },
   "file_extension": ".py",
   "mimetype": "text/x-python",
   "name": "python",
   "nbconvert_exporter": "python",
   "pygments_lexer": "ipython3",
   "version": "3.9.6"
  },
  "orig_nbformat": 4
 },
 "nbformat": 4,
 "nbformat_minor": 2
}
