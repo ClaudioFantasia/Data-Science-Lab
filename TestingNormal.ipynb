{
  "nbformat": 4,
  "nbformat_minor": 0,
  "metadata": {
    "colab": {
      "provenance": []
    },
    "kernelspec": {
      "name": "python3",
      "display_name": "Python 3"
    },
    "language_info": {
      "name": "python"
    }
  },
  "cells": [
    {
      "cell_type": "code",
      "execution_count": null,
      "metadata": {
        "id": "l2493FPZ1Bkm"
      },
      "outputs": [],
      "source": [
        "import pandas as pd\n",
        "import numpy as np\n",
        "import matplotlib.pyplot as plt\n",
        "import scipy\n",
        "from sklearn.preprocessing import MinMaxScaler\n",
        "import seaborn as sns\n",
        "#import pingouin as pg\n",
        "from sklearn.model_selection import train_test_split\n",
        "from sklearn.metrics import mean_absolute_error\n",
        "from sklearn.metrics import r2_score\n",
        "from sklearn.metrics import mean_squared_error\n",
        "from sklearn.linear_model import LinearRegression\n",
        "from sklearn.ensemble import RandomForestRegressor\n",
        "from sklearn.svm import SVR\n",
        "from sklearn.decomposition import PCA\n",
        "from sklearn.ensemble import GradientBoostingRegressor, HistGradientBoostingRegressor\n",
        "import xgboost as xgb\n",
        "import lightgbm as lgb\n",
        "from sklearn.model_selection import GridSearchCV, cross_val_score\n",
        "from sklearn.metrics import make_scorer\n",
        "\n",
        "def removingOutlierColumn(col,df,fact = 1.5):\n",
        "  #fact usually should be 1.5\n",
        "  q1 = df[col].quantile(0.25)    # First Quartile\n",
        "  q3 = df[col].quantile(0.75)    # Third Quartile\n",
        "  IQR = q3 - q1                            # Inter Quartile Range\n",
        "\n",
        "  llimit = q1 - fact*IQR                       # Lower Limit\n",
        "  ulimit = q3 + fact*IQR                        # Upper Limit\n",
        "\n",
        "  outliers = df[(df[col] < llimit) | (df[col] > ulimit)]\n",
        "\n",
        "  df.drop(outliers.index, axis = 0, inplace = True)\n",
        "\n",
        "\n",
        "  print('Number of outliers in \"' + col + ' : ' + str(len(outliers)))\n",
        "  print(llimit)\n",
        "  print(ulimit)\n",
        "  print(IQR)\n",
        "\n",
        "def findImportance(df):\n",
        "  X = df\n",
        "  y = df['shares']\n",
        "  feature_list = []\n",
        "  df.drop('shares', axis = 1, inplace = True)\n",
        "  reg = RandomForestRegressor(100, random_state=42)\n",
        "  reg.fit(X, y)\n",
        "  df[\"shares\"] = y\n",
        "  feature_dict = dict(sorted(zip(df.columns, reg.feature_importances_), key=lambda x: x[1],reverse=True))\n",
        "  temp = feature_dict.keys()\n",
        "  for key in temp:\n",
        "    feature_list.append(key)\n",
        "  return feature_dict,feature_list"
      ]
    },
    {
      "cell_type": "code",
      "source": [
        "## Initializing the dataset\n",
        "path_dev = \"./development.csv\"\n",
        "df = pd.read_csv(path_dev)\n",
        "pd.set_option('display.max_columns', 500)\n",
        "pd.set_option('display.max_rows', 500)\n",
        "\n",
        "\n",
        "\n",
        "##  Deleting silly columns\n",
        "df.drop(['url','id','timedelta'], axis = 1, inplace = True)\n",
        "#   Remove strange outliers with some data with 0 values\n",
        "mask = (df['average_token_length'] == 0) & (df['n_tokens_content'] == 0)\n",
        "df.drop(df[mask].index, axis = 0, inplace = True)\n",
        "\n",
        "\n",
        "##Filling NaN values in num_imgs and num_videos using zero\n",
        "NaN_columns = ['num_imgs','num_videos']\n",
        "for el in NaN_columns:\n",
        "    mean_values = df.groupby('data_channel')[el].mean()\n",
        "    # Iterate over each group and fill NaN values with the corresponding mean\n",
        "    for group, mean in mean_values.items():\n",
        "      df.loc[df['data_channel'] == group, el] = df.loc[df['data_channel'] == group, el].fillna(0)\n",
        "\n",
        "##  filling NaN values in num_keywords grouping by 'data_channel' and calculate the mean\n",
        "mean_values = df.groupby('data_channel')[\"num_keywords\"].mean()\n",
        "for group, mean in mean_values.items():\n",
        "  df.loc[df['data_channel'] == group, \"num_keywords\"] = df.loc[df['data_channel'] == group, \"num_keywords\"].fillna(mean)\n",
        "\n",
        "##  Transforming several features into a normal distribution shape using logaritmic transformation\n",
        "logTransformation = ['n_tokens_content','num_hrefs','num_self_hrefs','num_imgs','num_videos','kw_max_min','kw_avg_min','kw_min_max','kw_min_avg','kw_max_max','kw_max_avg','kw_avg_avg','self_reference_min_shares','self_reference_max_shares']\n",
        "df[logTransformation] = np.log(1.001 + df[logTransformation])\n",
        "\n",
        "\n",
        "\"\"\"\n",
        "##  Z-score normalization of our data\n",
        "for el in df.columns:\n",
        "  if(el != \"shares\" and el != \"data_channel\" and el != \"weekday\"):\n",
        "    df[el] = (df[el] - df[el].mean()) / df[el].std()\n",
        "\n",
        "for el in df_eval.columns:\n",
        "  if(el != \"shares\" and el != \"data_channel\" and el != \"weekday\"):\n",
        "    df_eval[el] = (df_eval[el] - df[el].mean()) / df[el].std()\n",
        "\"\"\"\n",
        "\n",
        "\n",
        "##  One-Hot Encoding\n",
        "df = pd.get_dummies(df, columns=['data_channel','weekday'])\n"
      ],
      "metadata": {
        "id": "n8GJHmkX1P4A"
      },
      "execution_count": null,
      "outputs": []
    },
    {
      "cell_type": "code",
      "source": [
        "y = df[\"shares\"]\n",
        "df.drop(\"shares\",axis=1,inplace=True)\n",
        "X = df\n",
        "\n",
        "\n",
        "X_train, X_test, y_train, y_test = train_test_split(X, y, test_size=0.2, random_state=42)\n",
        "\n",
        "rf_regressor = SVR(kernel = 'poly')\n",
        "rf_regressor.fit(X_train, y_train)\n",
        "\n",
        "# Predict on the testing data\n",
        "y_pred = rf_regressor.predict(X_test)\n",
        "# Calculate RMSE\n",
        "rmse = np.sqrt(mean_squared_error(y_test, y_pred))\n",
        "print(\"Root Mean Squared Error:\", rmse)\n",
        "df[\"shares\"] = y"
      ],
      "metadata": {
        "colab": {
          "base_uri": "https://localhost:8080/"
        },
        "id": "Eaz25xZ51emU",
        "outputId": "b8aa46a2-5153-4311-9b90-da5dd069caac"
      },
      "execution_count": null,
      "outputs": [
        {
          "output_type": "stream",
          "name": "stdout",
          "text": [
            "Root Mean Squared Error: 9653.840474739272\n"
          ]
        }
      ]
    },
    {
      "cell_type": "code",
      "source": [
        "y = df[\"shares\"]\n",
        "\n",
        "df.drop(\"shares\",axis=1,inplace=True)\n",
        "X = df\n",
        "\n",
        "\n",
        "X_train, X_test, y_train, y_test = train_test_split(X, y, test_size=0.2, random_state=42)\n",
        "\n",
        "rf_regressor = SVR(kernel = 'rbf')\n",
        "rf_regressor.fit(X_train, y_train)\n",
        "\n",
        "# Predict on the testing data\n",
        "y_pred = rf_regressor.predict(X_test)\n",
        "# Calculate RMSE\n",
        "rmse = np.sqrt(mean_squared_error(y_test, y_pred))\n",
        "print(\"Root Mean Squared Error:\", rmse)\n",
        "df[\"shares\"] = y"
      ],
      "metadata": {
        "colab": {
          "base_uri": "https://localhost:8080/"
        },
        "id": "bU4XPUwq2fs1",
        "outputId": "ef5ae143-88b4-4732-9a30-8b585c96778a"
      },
      "execution_count": null,
      "outputs": [
        {
          "output_type": "stream",
          "name": "stdout",
          "text": [
            "Root Mean Squared Error: 9651.916647480688\n"
          ]
        }
      ]
    },
    {
      "cell_type": "code",
      "source": [
        "y = df[\"shares\"]\n",
        "df.drop(\"shares\",axis=1,inplace=True)\n",
        "X = df\n",
        "\n",
        "\n",
        "X_train, X_test, y_train, y_test = train_test_split(X, y, test_size=0.2, random_state=42)\n",
        "\n",
        "rf_regressor = GradientBoostingRegressor(random_state = 42)\n",
        "rf_regressor.fit(X_train, y_train)\n",
        "\n",
        "# Predict on the testing data\n",
        "y_pred = rf_regressor.predict(X_test)\n",
        "# Calculate RMSE\n",
        "rmse = np.sqrt(mean_squared_error(y_test, y_pred))\n",
        "print(\"Root Mean Squared Error:\", rmse)\n",
        "df[\"shares\"] = y"
      ],
      "metadata": {
        "colab": {
          "base_uri": "https://localhost:8080/"
        },
        "id": "Fny_tjBO3BXR",
        "outputId": "e3c2b414-e441-4c99-d124-f6e7634bfd86"
      },
      "execution_count": null,
      "outputs": [
        {
          "output_type": "stream",
          "name": "stdout",
          "text": [
            "Root Mean Squared Error: 10275.217609294596\n"
          ]
        }
      ]
    },
    {
      "cell_type": "code",
      "source": [
        "y = df[\"shares\"]\n",
        "df.drop(\"shares\",axis=1,inplace=True)\n",
        "X = df\n",
        "\n",
        "\n",
        "X_train, X_test, y_train, y_test = train_test_split(X, y, test_size=0.2, random_state=42)\n",
        "\n",
        "rf_regressor = RandomForestRegressor(n_estimators = 300, max_depth = 35, random_state = 42)\n",
        "rf_regressor.fit(X_train, y_train)\n",
        "\n",
        "# Predict on the testing data\n",
        "y_pred = rf_regressor.predict(X_test)\n",
        "# Calculate RMSE\n",
        "rmse = np.sqrt(mean_squared_error(y_test, y_pred))\n",
        "print(\"Root Mean Squared Error:\", rmse)\n",
        "df[\"shares\"] = y"
      ],
      "metadata": {
        "colab": {
          "base_uri": "https://localhost:8080/"
        },
        "id": "FEbiQtyY3icI",
        "outputId": "37665971-34f5-435a-d186-536fd9715202"
      },
      "execution_count": null,
      "outputs": [
        {
          "output_type": "stream",
          "name": "stdout",
          "text": [
            "Root Mean Squared Error: 10258.642126191944\n"
          ]
        }
      ]
    },
    {
      "cell_type": "code",
      "source": [
        "y = df[\"shares\"]\n",
        "df.drop(\"shares\",axis=1,inplace=True)\n",
        "X = df\n",
        "\n",
        "\n",
        "X_train, X_test, y_train, y_test = train_test_split(X, y, test_size=0.2, random_state=42)\n",
        "\n",
        "rf_regressor = LinearRegression()\n",
        "rf_regressor.fit(X_train, y_train)\n",
        "\n",
        "# Predict on the testing data\n",
        "y_pred = rf_regressor.predict(X_test)\n",
        "# Calculate RMSE\n",
        "rmse = np.sqrt(mean_squared_error(y_test, y_pred))\n",
        "print(\"Root Mean Squared Error:\", rmse)\n",
        "df[\"shares\"] = y"
      ],
      "metadata": {
        "colab": {
          "base_uri": "https://localhost:8080/"
        },
        "id": "fqWozZOZFcrX",
        "outputId": "61f4e27a-69c1-4b5f-cc00-c6359279e03a"
      },
      "execution_count": null,
      "outputs": [
        {
          "output_type": "stream",
          "name": "stdout",
          "text": [
            "Root Mean Squared Error: 9413.74627385229\n"
          ]
        }
      ]
    },
    {
      "cell_type": "code",
      "source": [],
      "metadata": {
        "id": "3lEo_xGcFgdO"
      },
      "execution_count": null,
      "outputs": []
    }
  ]
}